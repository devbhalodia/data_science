{
  "nbformat": 4,
  "nbformat_minor": 0,
  "metadata": {
    "colab": {
      "provenance": []
    },
    "kernelspec": {
      "name": "python3",
      "display_name": "Python 3"
    },
    "language_info": {
      "name": "python"
    }
  },
  "cells": [
    {
      "cell_type": "code",
      "execution_count": 1,
      "metadata": {
        "id": "uQKo0V90Ds--"
      },
      "outputs": [],
      "source": [
        "\n",
        "import pickle\n",
        "import numpy as np\n",
        "pipe = pickle.load(open('pipe.pkl','rb'))"
      ]
    },
    {
      "cell_type": "code",
      "source": [
        "test_input = np.array([2,'male', 31.0, 0, 0 ,10.5, 'S'],dtype= object).reshape(1,7)"
      ],
      "metadata": {
        "id": "KRxgQ78BFidR"
      },
      "execution_count": 2,
      "outputs": []
    },
    {
      "cell_type": "code",
      "source": [
        "'''\n",
        "as we already trained the pipe once, by using 'fit',  we now will just predict the output with this new data\n",
        "'''\n",
        "pipe.predict(test_input)\n",
        "\n",
        "'''\n",
        "o/p = array([0]), which means that the person died.\n",
        "'''"
      ],
      "metadata": {
        "colab": {
          "base_uri": "https://localhost:8080/"
        },
        "id": "gpeFjlkaGBdq",
        "outputId": "56a354b8-b36a-442d-8f66-b737652f97e4"
      },
      "execution_count": 3,
      "outputs": [
        {
          "output_type": "stream",
          "name": "stderr",
          "text": [
            "/usr/local/lib/python3.11/dist-packages/sklearn/utils/validation.py:2739: UserWarning: X does not have valid feature names, but SimpleImputer was fitted with feature names\n",
            "  warnings.warn(\n",
            "/usr/local/lib/python3.11/dist-packages/sklearn/utils/validation.py:2739: UserWarning: X does not have valid feature names, but SimpleImputer was fitted with feature names\n",
            "  warnings.warn(\n"
          ]
        },
        {
          "output_type": "execute_result",
          "data": {
            "text/plain": [
              "array([0])"
            ]
          },
          "metadata": {},
          "execution_count": 3
        }
      ]
    }
  ]
}