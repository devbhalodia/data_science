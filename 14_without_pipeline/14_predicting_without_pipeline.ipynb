{
  "nbformat": 4,
  "nbformat_minor": 0,
  "metadata": {
    "colab": {
      "provenance": []
    },
    "kernelspec": {
      "name": "python3",
      "display_name": "Python 3"
    },
    "language_info": {
      "name": "python"
    }
  },
  "cells": [
    {
      "cell_type": "code",
      "execution_count": 27,
      "metadata": {
        "id": "ZnsRkGktQome"
      },
      "outputs": [],
      "source": [
        "import pickle\n",
        "import numpy as np\n",
        "import pandas as pd"
      ]
    },
    {
      "cell_type": "code",
      "source": [
        "ohe_sex = pickle.load(open('ohe_sex.pkl','rb'))\n",
        "ohe_embarked = pickle.load(open('ohe_embarked.pkl','rb'))\n",
        "clf = pickle.load(open('clf.pkl','rb'))"
      ],
      "metadata": {
        "id": "luaqCG--Q-Ry"
      },
      "execution_count": 28,
      "outputs": []
    },
    {
      "cell_type": "code",
      "source": [
        "test_input = np.array([2, 'male', 31.0, 0, 0, 10.5, 'S'],dtype=object).reshape(1,7)\n",
        "'''\n",
        "if it is just np.array([2, 'male', 31.0, 0, 0, 10.5, 'S'],dtype=object, the shape will be (1,) as it is a\n",
        "1d array. but, as we want to deal with rows and columns, because the original data has rows,columns, we reshape it to\n",
        "1,7 so that, we can now access values with [row, column] and the test_input becomes a 2d array.\n",
        "'''"
      ],
      "metadata": {
        "id": "uePYagXhRBOv",
        "colab": {
          "base_uri": "https://localhost:8080/",
          "height": 70
        },
        "outputId": "6f16ccc3-2cc5-467e-c196-9276d46750e4"
      },
      "execution_count": 29,
      "outputs": [
        {
          "output_type": "execute_result",
          "data": {
            "text/plain": [
              "\"\\nif it is just np.array([2, 'male', 31.0, 0, 0, 10.5, 'S'],dtype=object, the shape will be (1,) as it is a \\n1d array. but, as we want to deal with rows and columns, because the original data has rows,columns, we reshape it to \\n1,7 so that, we can now access values with [row, column] and the test_input becomes a 2d array. \\n\""
            ],
            "application/vnd.google.colaboratory.intrinsic+json": {
              "type": "string"
            }
          },
          "metadata": {},
          "execution_count": 29
        }
      ]
    },
    {
      "cell_type": "code",
      "source": [
        "test_input\n",
        "'''\n",
        "NOTE:-\n",
        "while using the pickle files, please ensure:-\n",
        "1. the data format is same as that of df you used before. like, if sex at index = 1, then the test_input should also have the\n",
        "sex at column index = 1.\n",
        "\n",
        "2. dimension of df and test_input to be the SAME (2D).\n",
        "'''"
      ],
      "metadata": {
        "colab": {
          "base_uri": "https://localhost:8080/",
          "height": 53
        },
        "id": "i6K-g7nsRDYA",
        "outputId": "29ed3600-dd6e-414c-be43-055178159e1e"
      },
      "execution_count": 30,
      "outputs": [
        {
          "output_type": "execute_result",
          "data": {
            "text/plain": [
              "'\\nNOTE:- \\nwhile using the pickle files, please ensure:-\\n1. the data format is same as that of df you used before. like, if sex at index = 1, then the test_input should also have the \\nsex at column index = 1. \\n\\n2. dimension of df and test_input to be the SAME (2D). \\n'"
            ],
            "application/vnd.google.colaboratory.intrinsic+json": {
              "type": "string"
            }
          },
          "metadata": {},
          "execution_count": 30
        }
      ]
    },
    {
      "cell_type": "code",
      "source": [
        "test_input.shape"
      ],
      "metadata": {
        "colab": {
          "base_uri": "https://localhost:8080/"
        },
        "id": "W-ZSVRP8WkfR",
        "outputId": "e18ec02d-95f8-4ef5-dceb-2268ea7f7cc0"
      },
      "execution_count": 31,
      "outputs": [
        {
          "output_type": "execute_result",
          "data": {
            "text/plain": [
              "(1, 7)"
            ]
          },
          "metadata": {},
          "execution_count": 31
        }
      ]
    },
    {
      "cell_type": "code",
      "source": [
        "'''\n",
        "put all the numeric columns on one side.\n",
        "[:, 0,3,4,5] means all rows, and index of the numeric columns (refer the test_input above)\n",
        "'''\n",
        "test_input_numeric = test_input[:, [0, 3, 4, 5]].astype(float)\n",
        "'''\n",
        "putting the age column aside too. as it is just a single value, it becomes 1d, and most sci-kit learn transformers like minmax, ohe, etc\n",
        "expect 2d array.\n",
        "'''\n",
        "test_input_age = test_input[:, 2].astype(float).reshape(1, 1)\n",
        "\n",
        "'''\n",
        "in the df, we had given the column name while doing ohe. hence here too, we need to maintain consistency and do the same by first converting\n",
        "the test_input arr to df, then giving column name and test_input value.\n",
        "'''\n",
        "test_input_sex = ohe_sex.transform(pd.DataFrame({'Sex': [test_input[0, 1]]}))\n",
        "test_input_embarked = ohe_embarked.transform(pd.DataFrame({'Embarked': [test_input[0, -1]]}))\n",
        "\n",
        "# Concatenate everything (all must be 2D NumPy arrays)\n",
        "test_input_transformed = np.concatenate(\n",
        "    (test_input_numeric, test_input_age, test_input_sex, test_input_embarked),\n",
        "    axis=1\n",
        ")\n"
      ],
      "metadata": {
        "colab": {
          "base_uri": "https://localhost:8080/"
        },
        "id": "VlZ9KAJLSFwX",
        "outputId": "a5855c19-2a1f-4a36-cc65-1b16ba0b75b7"
      },
      "execution_count": 33,
      "outputs": [
        {
          "output_type": "stream",
          "name": "stderr",
          "text": [
            "/usr/local/lib/python3.11/dist-packages/sklearn/utils/validation.py:2732: UserWarning: X has feature names, but OneHotEncoder was fitted without feature names\n",
            "  warnings.warn(\n"
          ]
        }
      ]
    },
    {
      "cell_type": "code",
      "source": [
        "test_input_transformed.shape"
      ],
      "metadata": {
        "colab": {
          "base_uri": "https://localhost:8080/"
        },
        "id": "FmsIve72SQbu",
        "outputId": "1e12e219-e43c-4c1d-9c7a-4dd50fb84f4a"
      },
      "execution_count": 34,
      "outputs": [
        {
          "output_type": "execute_result",
          "data": {
            "text/plain": [
              "(1, 10)"
            ]
          },
          "metadata": {},
          "execution_count": 34
        }
      ]
    },
    {
      "cell_type": "code",
      "source": [
        "clf.predict(test_input_transformed)\n"
      ],
      "metadata": {
        "colab": {
          "base_uri": "https://localhost:8080/"
        },
        "id": "XL2Lj7EgSS15",
        "outputId": "727e50d7-d992-4bf7-ea85-b91ad7567167"
      },
      "execution_count": 35,
      "outputs": [
        {
          "output_type": "execute_result",
          "data": {
            "text/plain": [
              "array([1])"
            ]
          },
          "metadata": {},
          "execution_count": 35
        }
      ]
    }
  ]
}